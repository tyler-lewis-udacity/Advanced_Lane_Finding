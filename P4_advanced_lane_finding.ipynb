{
 "cells": [
  {
   "cell_type": "code",
   "execution_count": null,
   "metadata": {},
   "outputs": [],
   "source": [
    "import os\n",
    "import sys\n",
    "import PIL\n",
    "import numpy as np\n",
    "import cv2\n",
    "import matplotlib.pyplot as plt\n",
    "import matplotlib.image as mpimg\n",
    "import glob\n",
    "# # Display plots inside the notebook:\n",
    "# %matplotlib inline "
   ]
  },
  {
   "cell_type": "code",
   "execution_count": null,
   "metadata": {},
   "outputs": [],
   "source": [
    "# %matplotlib inline\n",
    "\n",
    "# # INTERNAL board dimensions:\n",
    "# board_dims = (5,9)\n",
    "# rows = board_dims[0]\n",
    "# cols = board_dims[1]\n",
    "\n",
    "\n",
    "# # prepare object points, like (0,0,0), (1,0,0), (2,0,0) ....,(6,5,0)\n",
    "# objp = np.zeros((rows*cols,3), np.float32)\n",
    "# objp[:,:2] = np.mgrid[0:cols, 0:rows].T.reshape(-1,2)\n",
    "\n",
    "# # Arrays to store object points and image points from all the images.\n",
    "# objpoints = [] # 3d points in real world space\n",
    "# imgpoints = [] # 2d points in image plane.\n",
    "\n",
    "# # Make a list of calibration images\n",
    "# images = glob.glob('camera_cal/calibration*.jpg')\n",
    "\n",
    "# # Step through the list and search for chessboard corners\n",
    "# for idx, fname in enumerate(images):\n",
    "#     img = cv2.imread(fname)\n",
    "#     gray = cv2.cvtColor(img, cv2.COLOR_BGR2GRAY)\n",
    "\n",
    "#     # Find the chessboard corners\n",
    "#     ret, corners = cv2.findChessboardCorners(gray, (cols,rows), None)\n",
    "\n",
    "#     # If found, add object points, image points\n",
    "#     if ret == True:\n",
    "#         objpoints.append(objp)\n",
    "#         imgpoints.append(corners)\n",
    "\n",
    "#         # Draw and display the corners\n",
    "#         cv2.drawChessboardCorners(img, (cols,rows), corners, ret)\n",
    "#         #write_name = 'corners_found'+str(idx)+'.jpg'\n",
    "#         #cv2.imwrite(write_name, img)\n",
    "#         plt.imshow(img)\n",
    "#         #cv2.waitKey(500)\n",
    "\n"
   ]
  },
  {
   "cell_type": "code",
   "execution_count": null,
   "metadata": {},
   "outputs": [],
   "source": [
    "# Display plots in external window: \n",
    "def show_external(img, cmap=None):\n",
    "    %matplotlib qt\n",
    "    plt.imshow(img, cmap)\n",
    "    plt.show()"
   ]
  },
  {
   "cell_type": "code",
   "execution_count": null,
   "metadata": {},
   "outputs": [],
   "source": [
    "# Read in images from folder:\n",
    "def get_images_from_folder(folder_name='camera_cal'):\n",
    "    cwd = os.getcwd()\n",
    "    path = '{}/{}/{}'.format(cwd, folder_name, 'calibration*.jpg')\n",
    "    #print(path)\n",
    "    images = glob.glob(path)\n",
    "    return images"
   ]
  },
  {
   "cell_type": "code",
   "execution_count": null,
   "metadata": {},
   "outputs": [],
   "source": [
    "def undistort_image(image):  \n",
    "\n",
    "    # Get the grayscale of the image:\n",
    "    gray = cv2.cvtColor(image, cv2.COLOR_RGB2GRAY)\n",
    "\n",
    "    # Store object points and image points from calibration images:\n",
    "    imgpoints = []\n",
    "    objpoints = []\n",
    "\n",
    "    # Prepare object points, starting top left intersection (NOT corner of chessboard)\n",
    "    # ending bottom right intersection (Not corner of chessboard)\n",
    "    # ranges from (0,0,z-depth) to (7,5,z-depth)\n",
    "\n",
    "    # Internal dimensions of the chessboard images (rows, cols):\n",
    "    # NOTE: A standard chessboard would have internal dimensions of (7,7)\n",
    "    board_dims = (5,9)\n",
    "\n",
    "    rows = board_dims[0]\n",
    "    cols = board_dims[1]\n",
    "\n",
    "\n",
    "    # Prepare object points:\n",
    "    objp = np.zeros((cols*rows, 3), dtype=np.float32)\n",
    "    objp[:,:2] = np.mgrid[0:cols, 0:rows].T.reshape(-1,2)\n",
    "\n",
    "    # Find the chessboard corners:\n",
    "    ret, corners = cv2.findChessboardCorners(gray, (cols, rows), None)\n",
    "\n",
    "    # If corners are found, add object points and image points:\n",
    "    if ret == True:\n",
    "        imgpoints.append(corners)\n",
    "        objpoints.append(objp)\n",
    "\n",
    "        # Draw and display corners:\n",
    "        image = cv2.drawChessboardCorners(img, (cols, rows), corners, ret)\n",
    "        plt.imshow(img)\n",
    "\n",
    "        # Calculate camera RMS by pixel, matrix, distortion coefficients, and rotational and translation vectors:\n",
    "        rms, mtx, dist, rvecs, tvecs = cv2.calibrateCamera(objpoints, imgpoints, gray.shape[::-1], None, None)\n",
    "        # Get the undistorted \"destination\" (dst) image from the distorted image (img):\n",
    "        undistorted_image = cv2.undistort(img, mtx, dist, None, mtx)\n",
    "    else:\n",
    "        undistorted_image = None\n",
    "    return undistorted_image"
   ]
  },
  {
   "cell_type": "code",
   "execution_count": null,
   "metadata": {},
   "outputs": [],
   "source": [
    "def undistort_images():"
   ]
  },
  {
   "cell_type": "code",
   "execution_count": null,
   "metadata": {
    "scrolled": true
   },
   "outputs": [],
   "source": [
    "# Read in an image and add a grayscaled version of that image:\n",
    "original_image = mpimg.imread('./camera_cal/calibration1.jpg')\n",
    "img = np.copy(original_image)"
   ]
  },
  {
   "cell_type": "code",
   "execution_count": null,
   "metadata": {},
   "outputs": [],
   "source": [
    "# # REMOVE\n",
    "# print(id(original_image))\n",
    "# print(id(img))\n",
    "# print(id(gray))"
   ]
  },
  {
   "cell_type": "code",
   "execution_count": null,
   "metadata": {},
   "outputs": [],
   "source": [
    "# Read in an image:\n",
    "image = mpimg.imread('./camera_cal/calibration1.jpg')\n",
    "# image = np.zeros((100,100,3), dtype=np.uint8)\n",
    "\n",
    "undistorted_image = get_undistorted_image(image)\n",
    "print(undistorted_image)\n"
   ]
  },
  {
   "cell_type": "code",
   "execution_count": null,
   "metadata": {},
   "outputs": [],
   "source": [
    "plt.imshow(dst)"
   ]
  },
  {
   "cell_type": "code",
   "execution_count": 1,
   "metadata": {},
   "outputs": [],
   "source": [
    "# # Using pickle:\n",
    "# import pickle\n",
    "# import numpy as np\n",
    "\n",
    "# data_dict = {\n",
    "#     'volts':np.random.random(10),\n",
    "#     'current':np.random.random(10),\n",
    "# }\n",
    "\n",
    "# # Export data to pickle file:\n",
    "# with open('data_pick.p','wb') as pickle_file:\n",
    "#     pickle.dump(data_dict, pickle_out)\n",
    "    \n",
    "#     # Import data from pickle file:\n",
    "# with open('data_pick.p','rb') as pickle_file:\n",
    "#     new_data = pickle.load(pickle_in)    "
   ]
  },
  {
   "cell_type": "code",
   "execution_count": 2,
   "metadata": {},
   "outputs": [],
   "source": []
  },
  {
   "cell_type": "code",
   "execution_count": null,
   "metadata": {},
   "outputs": [],
   "source": [
    "# # REMOVE\n",
    "# print(board_dims)\n",
    "# print(num_h_lines)\n",
    "# print(num_v_lines)"
   ]
  },
  {
   "cell_type": "code",
   "execution_count": null,
   "metadata": {},
   "outputs": [],
   "source": [
    "# # REMOVE\n",
    "# import sys\n",
    "# print(sys.platform)\n",
    "# print(sys.version)\n",
    "# print(sys.executable)"
   ]
  }
 ],
 "metadata": {
  "kernelspec": {
   "display_name": "Python 3",
   "language": "python",
   "name": "python3"
  },
  "language_info": {
   "codemirror_mode": {
    "name": "ipython",
    "version": 3
   },
   "file_extension": ".py",
   "mimetype": "text/x-python",
   "name": "python",
   "nbconvert_exporter": "python",
   "pygments_lexer": "ipython3",
   "version": "3.6.4"
  },
  "widgets": {
   "state": {},
   "version": "1.1.2"
  }
 },
 "nbformat": 4,
 "nbformat_minor": 2
}
