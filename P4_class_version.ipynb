{
 "cells": [
  {
   "cell_type": "code",
   "execution_count": 1,
   "metadata": {},
   "outputs": [],
   "source": [
    "import os\n",
    "import sys\n",
    "import PIL\n",
    "import numpy as np\n",
    "import cv2\n",
    "import matplotlib.pyplot as plt\n",
    "import matplotlib.image as mpimg\n",
    "import matplotlib.patches as patches\n",
    "import glob\n",
    "import csv\n",
    "import pickle\n",
    "from moviepy.editor import VideoFileClip\n",
    "from IPython.display import HTML\n",
    "# Display plots inside the notebook:\n",
    "%matplotlib inline \n",
    "\n"
   ]
  },
  {
   "cell_type": "code",
   "execution_count": 2,
   "metadata": {},
   "outputs": [],
   "source": [
    "# Produce an output video (final_image):\n",
    "def make_video(video_in_name, video_out_name, function_name, start_time=None, end_time=None):\n",
    "    output = video_out_name\n",
    "    clip1 = VideoFileClip(video_in_name)\n",
    "    \n",
    "    if start_time is not None:\n",
    "        clip_out = clip1.fl_image(function_name).subclip(start_time, end_time) #NOTE: this function expects color images!!\n",
    "    else:\n",
    "        clip_out = clip1.fl_image(function_name) #NOTE: this function expects color images!!\n",
    "    \n",
    "    from IPython import get_ipython\n",
    "    get_ipython().magic('time clip_out.write_videofile(output, audio=False)')\n",
    "    \n",
    "    # Show video output\n",
    "    HTML(\"\"\"\n",
    "    <video width=\"960\" height=\"540\" controls>\n",
    "      <source src=\"{0}\">\n",
    "    </video>\n",
    "    \"\"\".format(output))\n",
    "    return output"
   ]
  },
  {
   "cell_type": "code",
   "execution_count": 3,
   "metadata": {},
   "outputs": [],
   "source": [
    "class Frame():\n",
    "    \n",
    "    def __init__(self):\n",
    "        pass\n",
    "    "
   ]
  },
  {
   "cell_type": "code",
   "execution_count": 4,
   "metadata": {},
   "outputs": [],
   "source": [
    "# https://zulko.github.io/moviepy/getting_started/efficient_moviepy.html#clip-save-frame"
   ]
  },
  {
   "cell_type": "code",
   "execution_count": 5,
   "metadata": {},
   "outputs": [],
   "source": [
    "# Create a video file clip instance called 'clip1'\n",
    "clip1 = VideoFileClip('project_video.mp4')"
   ]
  },
  {
   "cell_type": "code",
   "execution_count": 6,
   "metadata": {},
   "outputs": [],
   "source": [
    "clip1.save_frame(\"frame.jpg\") # saves the first frame of the video clip"
   ]
  },
  {
   "cell_type": "code",
   "execution_count": 7,
   "metadata": {},
   "outputs": [],
   "source": [
    "clip1.save_frame(\"frame.jpg\", t=2) # saves the frame a t=2s"
   ]
  },
  {
   "cell_type": "code",
   "execution_count": null,
   "metadata": {},
   "outputs": [],
   "source": []
  }
 ],
 "metadata": {
  "kernelspec": {
   "display_name": "Python 3",
   "language": "python",
   "name": "python3"
  },
  "language_info": {
   "codemirror_mode": {
    "name": "ipython",
    "version": 3
   },
   "file_extension": ".py",
   "mimetype": "text/x-python",
   "name": "python",
   "nbconvert_exporter": "python",
   "pygments_lexer": "ipython3",
   "version": "3.5.5"
  }
 },
 "nbformat": 4,
 "nbformat_minor": 2
}
